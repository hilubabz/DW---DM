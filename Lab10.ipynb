{
 "cells": [
  {
   "cell_type": "code",
   "execution_count": 1,
   "id": "0fd74b41",
   "metadata": {},
   "outputs": [
    {
     "ename": "ModuleNotFoundError",
     "evalue": "No module named 'sklearn_extra'",
     "output_type": "error",
     "traceback": [
      "\u001b[31m---------------------------------------------------------------------------\u001b[39m",
      "\u001b[31mModuleNotFoundError\u001b[39m                       Traceback (most recent call last)",
      "\u001b[36mCell\u001b[39m\u001b[36m \u001b[39m\u001b[32mIn[1]\u001b[39m\u001b[32m, line 3\u001b[39m\n\u001b[32m      1\u001b[39m \u001b[38;5;28;01mimport\u001b[39;00m\u001b[38;5;250m \u001b[39m\u001b[34;01mnumpy\u001b[39;00m\u001b[38;5;250m \u001b[39m\u001b[38;5;28;01mas\u001b[39;00m\u001b[38;5;250m \u001b[39m\u001b[34;01mnp\u001b[39;00m\n\u001b[32m      2\u001b[39m \u001b[38;5;28;01mimport\u001b[39;00m\u001b[38;5;250m \u001b[39m\u001b[34;01mmatplotlib\u001b[39;00m\u001b[34;01m.\u001b[39;00m\u001b[34;01mpyplot\u001b[39;00m\u001b[38;5;250m \u001b[39m\u001b[38;5;28;01mas\u001b[39;00m\u001b[38;5;250m \u001b[39m\u001b[34;01mplt\u001b[39;00m\n\u001b[32m----> \u001b[39m\u001b[32m3\u001b[39m \u001b[38;5;28;01mfrom\u001b[39;00m\u001b[38;5;250m \u001b[39m\u001b[34;01msklearn_extra\u001b[39;00m\u001b[34;01m.\u001b[39;00m\u001b[34;01mcluster\u001b[39;00m\u001b[38;5;250m \u001b[39m\u001b[38;5;28;01mimport\u001b[39;00m KMedoids\n\u001b[32m      5\u001b[39m \u001b[38;5;66;03m# Sample data\u001b[39;00m\n\u001b[32m      6\u001b[39m X = np.array([\n\u001b[32m      7\u001b[39m     [\u001b[32m1\u001b[39m, \u001b[32m1\u001b[39m], [\u001b[32m2\u001b[39m, \u001b[32m1\u001b[39m], [\u001b[32m1\u001b[39m, \u001b[32m2\u001b[39m],\n\u001b[32m      8\u001b[39m     [\u001b[32m6\u001b[39m, \u001b[32m6\u001b[39m], [\u001b[32m6\u001b[39m, \u001b[32m7\u001b[39m], [\u001b[32m7\u001b[39m, \u001b[32m6\u001b[39m],\n\u001b[32m      9\u001b[39m     [\u001b[32m10\u001b[39m, \u001b[32m1\u001b[39m]  \u001b[38;5;66;03m# This is an outlier\u001b[39;00m\n\u001b[32m     10\u001b[39m ])\n",
      "\u001b[31mModuleNotFoundError\u001b[39m: No module named 'sklearn_extra'"
     ]
    }
   ],
   "source": [
    "import numpy as np\n",
    "import matplotlib.pyplot as plt\n",
    "from sklearn_extra.cluster import KMedoids\n",
    "\n",
    "# Sample data\n",
    "X = np.array([\n",
    "    [1, 1], [2, 1], [1, 2],\n",
    "    [6, 6], [6, 7], [7, 6],\n",
    "    [10, 1]  # This is an outlier\n",
    "])\n",
    "\n",
    "# Apply K-Medoids clustering\n",
    "kmedoids = KMedoids(n_clusters=2, random_state=42)\n",
    "kmedoids.fit(X)\n",
    "\n",
    "# Get cluster labels\n",
    "labels = kmedoids.labels_\n",
    "medoids = kmedoids.cluster_centers_\n",
    "\n",
    "# Plot result\n",
    "plt.scatter(X[:, 0], X[:, 1], c=labels, cmap='Set1')\n",
    "plt.scatter(medoids[:, 0], medoids[:, 1], color='black', marker='X', s=200, label='Medoids')\n",
    "plt.title(\"K-Medoids Clustering\")\n",
    "plt.legend()\n",
    "plt.show()\n"
   ]
  }
 ],
 "metadata": {
  "kernelspec": {
   "display_name": "Python 3",
   "language": "python",
   "name": "python3"
  },
  "language_info": {
   "codemirror_mode": {
    "name": "ipython",
    "version": 3
   },
   "file_extension": ".py",
   "mimetype": "text/x-python",
   "name": "python",
   "nbconvert_exporter": "python",
   "pygments_lexer": "ipython3",
   "version": "3.13.3"
  }
 },
 "nbformat": 4,
 "nbformat_minor": 5
}
