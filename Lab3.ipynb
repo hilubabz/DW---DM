{
 "cells": [
  {
   "cell_type": "code",
   "execution_count": 2,
   "id": "4c39add9",
   "metadata": {},
   "outputs": [
    {
     "name": "stdout",
     "output_type": "stream",
     "text": [
      "   support         itemsets\n",
      "0      0.6           (Beer)\n",
      "1      0.8          (Bread)\n",
      "2      0.6        (Diapers)\n",
      "3      0.8           (Milk)\n",
      "4      0.6  (Beer, Diapers)\n",
      "5      0.6    (Bread, Milk)\n"
     ]
    }
   ],
   "source": [
    "import pandas as pd\n",
    "from mlxtend.preprocessing import TransactionEncoder\n",
    "from mlxtend.frequent_patterns import apriori\n",
    "\n",
    "# Sample transactional data as list of lists\n",
    "transactions = [\n",
    "    ['Milk', 'Bread', 'Butter'],\n",
    "    ['Bread', 'Diapers', 'Beer'],\n",
    "    ['Milk', 'Diapers', 'Beer', 'Cola'],\n",
    "    ['Bread', 'Milk', 'Diapers', 'Beer'],\n",
    "    ['Bread', 'Milk', 'Cola']\n",
    "]\n",
    "\n",
    "# Convert transactions to one-hot encoded DataFrame\n",
    "te = TransactionEncoder()\n",
    "te_ary = te.fit(transactions).transform(transactions)\n",
    "df = pd.DataFrame(te_ary, columns=te.columns_)\n",
    "\n",
    "# Apply Apriori algorithm with minimum support = 0.5\n",
    "frequent_itemsets = apriori(df, min_support=0.5, use_colnames=True)\n",
    "\n",
    "print(frequent_itemsets)\n"
   ]
  }
 ],
 "metadata": {
  "kernelspec": {
   "display_name": "Python 3",
   "language": "python",
   "name": "python3"
  },
  "language_info": {
   "codemirror_mode": {
    "name": "ipython",
    "version": 3
   },
   "file_extension": ".py",
   "mimetype": "text/x-python",
   "name": "python",
   "nbconvert_exporter": "python",
   "pygments_lexer": "ipython3",
   "version": "3.13.3"
  }
 },
 "nbformat": 4,
 "nbformat_minor": 5
}
