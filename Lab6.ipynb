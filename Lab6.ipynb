{
 "cells": [
  {
   "cell_type": "code",
   "execution_count": 2,
   "id": "5855c00a",
   "metadata": {},
   "outputs": [
    {
     "name": "stderr",
     "output_type": "stream",
     "text": [
      "c:\\Users\\Legion\\AppData\\Local\\Programs\\Python\\Python313\\Lib\\site-packages\\tqdm\\auto.py:21: TqdmWarning: IProgress not found. Please update jupyter and ipywidgets. See https://ipywidgets.readthedocs.io/en/stable/user_install.html\n",
      "  from .autonotebook import tqdm as notebook_tqdm\n"
     ]
    },
    {
     "ename": "ImportError",
     "evalue": "cannot import name 'BayesianModel' from 'pgmpy.models' (c:\\Users\\Legion\\AppData\\Local\\Programs\\Python\\Python313\\Lib\\site-packages\\pgmpy\\models\\__init__.py)",
     "output_type": "error",
     "traceback": [
      "\u001b[31m---------------------------------------------------------------------------\u001b[39m",
      "\u001b[31mImportError\u001b[39m                               Traceback (most recent call last)",
      "\u001b[36mCell\u001b[39m\u001b[36m \u001b[39m\u001b[32mIn[2]\u001b[39m\u001b[32m, line 2\u001b[39m\n\u001b[32m      1\u001b[39m \u001b[38;5;28;01mimport\u001b[39;00m\u001b[38;5;250m \u001b[39m\u001b[34;01mpandas\u001b[39;00m\u001b[38;5;250m \u001b[39m\u001b[38;5;28;01mas\u001b[39;00m\u001b[38;5;250m \u001b[39m\u001b[34;01mpd\u001b[39;00m\n\u001b[32m----> \u001b[39m\u001b[32m2\u001b[39m \u001b[38;5;28;01mfrom\u001b[39;00m\u001b[38;5;250m \u001b[39m\u001b[34;01mpgmpy\u001b[39;00m\u001b[34;01m.\u001b[39;00m\u001b[34;01mmodels\u001b[39;00m\u001b[38;5;250m \u001b[39m\u001b[38;5;28;01mimport\u001b[39;00m BayesianModel\n\u001b[32m      3\u001b[39m \u001b[38;5;28;01mfrom\u001b[39;00m\u001b[38;5;250m \u001b[39m\u001b[34;01mpgmpy\u001b[39;00m\u001b[34;01m.\u001b[39;00m\u001b[34;01mestimators\u001b[39;00m\u001b[38;5;250m \u001b[39m\u001b[38;5;28;01mimport\u001b[39;00m MaximumLikelihoodEstimator\n\u001b[32m      4\u001b[39m \u001b[38;5;28;01mfrom\u001b[39;00m\u001b[38;5;250m \u001b[39m\u001b[34;01mpgmpy\u001b[39;00m\u001b[34;01m.\u001b[39;00m\u001b[34;01minference\u001b[39;00m\u001b[38;5;250m \u001b[39m\u001b[38;5;28;01mimport\u001b[39;00m VariableElimination\n",
      "\u001b[31mImportError\u001b[39m: cannot import name 'BayesianModel' from 'pgmpy.models' (c:\\Users\\Legion\\AppData\\Local\\Programs\\Python\\Python313\\Lib\\site-packages\\pgmpy\\models\\__init__.py)"
     ]
    }
   ],
   "source": [
    "import pandas as pd\n",
    "from pgmpy.models import BayesianModel\n",
    "from pgmpy.estimators import MaximumLikelihoodEstimator\n",
    "from pgmpy.inference import VariableElimination\n",
    "\n",
    "# Create DataFrame\n",
    "data = pd.DataFrame([\n",
    "    ['Sunny', 'On',  'No',  'Yes'],\n",
    "    ['Sunny', 'On',  'No',  'No'],\n",
    "    ['Rainy', 'Off', 'Yes', 'Yes'],\n",
    "    ['Sunny', 'Off', 'No',  'No'],\n",
    "    ['Rainy', 'Off', 'Yes', 'Yes'],\n",
    "    ['Rainy', 'On',  'Yes', 'Yes'],\n",
    "    ['Sunny', 'On',  'No',  'Yes']\n",
    "], columns=['Weather', 'Sprinkler', 'Rain', 'WetGrass'])\n",
    "\n",
    "# Define the structure of Bayesian Network\n",
    "model = BayesianModel([\n",
    "    ('Weather', 'Sprinkler'),\n",
    "    ('Weather', 'Rain'),\n",
    "    ('Sprinkler', 'WetGrass'),\n",
    "    ('Rain', 'WetGrass')\n",
    "])\n",
    "\n",
    "# Learn CPDs (Conditional Probability Distributions) using Maximum Likelihood Estimator\n",
    "model.fit(data, estimator=MaximumLikelihoodEstimator)\n",
    "\n",
    "# Use Variable Elimination for inference\n",
    "inference = VariableElimination(model)\n",
    "\n",
    "# Query: What is the probability of WetGrass = 'Yes' given Weather='Sunny' and Rain='No'?\n",
    "query_result = inference.query(variables=['WetGrass'],\n",
    "                               evidence={'Weather': 'Sunny', 'Rain': 'No'})\n",
    "\n",
    "print(query_result)\n"
   ]
  }
 ],
 "metadata": {
  "kernelspec": {
   "display_name": "Python 3",
   "language": "python",
   "name": "python3"
  },
  "language_info": {
   "codemirror_mode": {
    "name": "ipython",
    "version": 3
   },
   "file_extension": ".py",
   "mimetype": "text/x-python",
   "name": "python",
   "nbconvert_exporter": "python",
   "pygments_lexer": "ipython3",
   "version": "3.13.3"
  }
 },
 "nbformat": 4,
 "nbformat_minor": 5
}
