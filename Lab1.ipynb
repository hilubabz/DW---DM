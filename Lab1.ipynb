{
 "cells": [
  {
   "cell_type": "code",
   "execution_count": 1,
   "id": "f38fcd78",
   "metadata": {},
   "outputs": [
    {
     "name": "stdout",
     "output_type": "stream",
     "text": [
      "      Name    Age  Score\n",
      "0    Alice   25.0   89.0\n",
      "1      Bob  100.0   92.0\n",
      "2  Charlie   30.0  100.0\n",
      "4    David   28.0   76.0\n",
      "5      Eve  100.0  100.0\n"
     ]
    }
   ],
   "source": [
    "import pandas as pd\n",
    "from io import StringIO\n",
    "\n",
    "# Embedded CSV data as a string\n",
    "data = \"\"\"Name,Age,Score\n",
    "Alice,25,89\n",
    "\n",
    "Bob,,92\n",
    "Charlie,30,\n",
    ",,\n",
    "David,28,76\n",
    "Eve,,100\n",
    "\"\"\"\n",
    "\n",
    "# Load dataset from the string\n",
    "df = pd.read_csv(StringIO(data))\n",
    "\n",
    "# Remove completely empty rows\n",
    "df.dropna(how='all', inplace=True)\n",
    "\n",
    "# Replace all NaN/null values with 100\n",
    "df.fillna(100, inplace=True)\n",
    "\n",
    "# Print cleaned dataset\n",
    "print(df)\n"
   ]
  }
 ],
 "metadata": {
  "kernelspec": {
   "display_name": "Python 3",
   "language": "python",
   "name": "python3"
  },
  "language_info": {
   "codemirror_mode": {
    "name": "ipython",
    "version": 3
   },
   "file_extension": ".py",
   "mimetype": "text/x-python",
   "name": "python",
   "nbconvert_exporter": "python",
   "pygments_lexer": "ipython3",
   "version": "3.13.3"
  }
 },
 "nbformat": 4,
 "nbformat_minor": 5
}
