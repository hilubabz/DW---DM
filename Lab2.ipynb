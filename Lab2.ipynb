{
 "cells": [
  {
   "cell_type": "code",
   "execution_count": 1,
   "id": "b098da7a",
   "metadata": {},
   "outputs": [
    {
     "name": "stdout",
     "output_type": "stream",
     "text": [
      "Original Data:\n",
      "      Name  Age  Duration\n",
      "0    Alice   25       100\n",
      "1      Bob   30       130\n",
      "2  Charlie   28       120\n",
      "3    David   26       150\n",
      "4      Eve   22       110\n",
      "5    Alice   25       100\n"
     ]
    }
   ],
   "source": [
    "import pandas as pd\n",
    "from io import StringIO\n",
    "\n",
    "# Sample data with Duration column\n",
    "data = \"\"\"Name,Age,Duration\n",
    "Alice,25,100\n",
    "Bob,30,130\n",
    "Charlie,28,120\n",
    "David,26,150\n",
    "Eve,22,110\n",
    "Alice,25,100\n",
    "\"\"\"\n",
    "\n",
    "# Read the dataset\n",
    "df = pd.read_csv(StringIO(data))\n",
    "\n",
    "print(\"Original Data:\")\n",
    "print(df)\n"
   ]
  },
  {
   "cell_type": "code",
   "execution_count": 2,
   "id": "b6bf7735",
   "metadata": {},
   "outputs": [
    {
     "name": "stdout",
     "output_type": "stream",
     "text": [
      "\n",
      "After Removing Rows with Duration > 120:\n",
      "      Name  Age  Duration\n",
      "0    Alice   25       100\n",
      "2  Charlie   28       120\n",
      "4      Eve   22       110\n",
      "5    Alice   25       100\n"
     ]
    }
   ],
   "source": [
    "# Filter out rows where Duration > 120\n",
    "df = df[df['Duration'] <= 120]\n",
    "print(\"\\nAfter Removing Rows with Duration > 120:\")\n",
    "print(df)\n"
   ]
  },
  {
   "cell_type": "code",
   "execution_count": 3,
   "id": "0cc8c20e",
   "metadata": {},
   "outputs": [
    {
     "name": "stdout",
     "output_type": "stream",
     "text": [
      "\n",
      "Duplicate Rows Found (Boolean Mask):\n",
      "0    False\n",
      "2    False\n",
      "4    False\n",
      "5     True\n",
      "dtype: bool\n",
      "\n",
      "Are all rows duplicates?: False\n"
     ]
    }
   ],
   "source": [
    "# Check for duplicate rows\n",
    "duplicates = df.duplicated()\n",
    "print(\"\\nDuplicate Rows Found (Boolean Mask):\")\n",
    "print(duplicates)\n",
    "\n",
    "# Check if all rows are duplicates\n",
    "all_duplicates = duplicates.all()\n",
    "print(\"\\nAre all rows duplicates?:\", all_duplicates)\n"
   ]
  }
 ],
 "metadata": {
  "kernelspec": {
   "display_name": "Python 3",
   "language": "python",
   "name": "python3"
  },
  "language_info": {
   "codemirror_mode": {
    "name": "ipython",
    "version": 3
   },
   "file_extension": ".py",
   "mimetype": "text/x-python",
   "name": "python",
   "nbconvert_exporter": "python",
   "pygments_lexer": "ipython3",
   "version": "3.13.3"
  }
 },
 "nbformat": 4,
 "nbformat_minor": 5
}
